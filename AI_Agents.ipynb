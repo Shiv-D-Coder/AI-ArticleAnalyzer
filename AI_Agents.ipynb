{
  "cells": [
    {
      "cell_type": "code",
      "execution_count": 1,
      "metadata": {
        "colab": {
          "base_uri": "https://localhost:8080/"
        },
        "id": "g2VOshEOf0CZ",
        "outputId": "2ffbe53d-eeb6-4ad1-bb68-439dc9ad5985"
      },
      "outputs": [
        {
          "name": "stderr",
          "output_type": "stream",
          "text": [
            "DEPRECATION: Loading egg at c:\\program files\\python311\\lib\\site-packages\\vboxapi-1.0-py3.11.egg is deprecated. pip 24.3 will enforce this behaviour change. A possible replacement is to use pip for package installation.. Discussion can be found at https://github.com/pypa/pip/issues/12330\n"
          ]
        }
      ],
      "source": [
        "!pip -q install crewai langchain-groq duckduckgo-search"
      ]
    },
    {
      "cell_type": "code",
      "execution_count": 2,
      "metadata": {
        "colab": {
          "base_uri": "https://localhost:8080/"
        },
        "id": "7R5w2eNXf2k_",
        "outputId": "33f8ebe5-85a9-4af8-c85e-43fe8c4c98b7"
      },
      "outputs": [
        {
          "name": "stdout",
          "output_type": "stream",
          "text": [
            "Name: crewai\n",
            "Version: 0.30.11\n",
            "Summary: Cutting-edge framework for orchestrating role-playing, autonomous AI agents. By fostering collaborative intelligence, CrewAI empowers agents to work together seamlessly, tackling complex tasks.\n",
            "Home-page: \n",
            "Author: Joao Moura\n",
            "Author-email: joao@crewai.com\n",
            "License: \n",
            "Location: C:\\Users\\shiv\\AppData\\Roaming\\Python\\Python311\\site-packages\n",
            "Requires: appdirs, click, embedchain, instructor, langchain, openai, opentelemetry-api, opentelemetry-exporter-otlp-proto-http, opentelemetry-sdk, pydantic, python-dotenv, regex\n",
            "Required-by: \n",
            "---\n",
            "Name: serpapi\n",
            "Version: 0.1.5\n",
            "Summary: The official Python client for SerpApi.com.\n",
            "Home-page: https://github.com/serpapi/serpapi-python\n",
            "Author: SerpApi.com\n",
            "Author-email: kenneth@serpapi.com\n",
            "License: MIT\n",
            "Location: C:\\Users\\shiv\\AppData\\Roaming\\Python\\Python311\\site-packages\n",
            "Requires: requests\n",
            "Required-by: \n"
          ]
        },
        {
          "name": "stderr",
          "output_type": "stream",
          "text": [
            "DEPRECATION: Loading egg at c:\\program files\\python311\\lib\\site-packages\\vboxapi-1.0-py3.11.egg is deprecated. pip 24.3 will enforce this behaviour change. A possible replacement is to use pip for package installation.. Discussion can be found at https://github.com/pypa/pip/issues/12330\n"
          ]
        }
      ],
      "source": [
        "!pip show crewai serpapi"
      ]
    },
    {
      "cell_type": "code",
      "execution_count": 1,
      "metadata": {
        "id": "v0RsIx3bf2hX"
      },
      "outputs": [
        {
          "data": {
            "text/plain": [
              "True"
            ]
          },
          "execution_count": 1,
          "metadata": {},
          "output_type": "execute_result"
        }
      ],
      "source": [
        "import os\n",
        "from dotenv import load_dotenv\n",
        "\n",
        "load_dotenv()\n",
        "\n",
        "# os.environ[\"GROQ_API_KEY\"] = userdata.get('GROQ_API_KEY')\n",
        "\n",
        "# SERP_API_KEY = userdata.get('SERP_API_KEY')\n",
        "# if SERP_API_KEY is None:\n",
        "#     raise ValueError(\"SERP_API_KEY secret not found in Colab. Please add it in the secrets section.\")\n",
        "\n",
        "# os.environ[\"SERP_API_KEY\"] = SERP_API_KEY\n"
      ]
    },
    {
      "cell_type": "code",
      "execution_count": 2,
      "metadata": {
        "id": "d9RnHFMJf2e1"
      },
      "outputs": [],
      "source": [
        "import os\n",
        "from crewai import Crew, Agent, Task, Process\n",
        "from langchain_groq import ChatGroq\n",
        "from langchain_community.tools import DuckDuckGoSearchRun\n",
        "import json\n",
        "import requests"
      ]
    },
    {
      "cell_type": "code",
      "execution_count": 3,
      "metadata": {
        "id": "IXr6kllxf2cZ"
      },
      "outputs": [],
      "source": [
        "# Initialize the Groq language model\n",
        "GROQ_LLM = ChatGroq(model=\"llama3-70b-8192\")\n"
      ]
    },
    {
      "cell_type": "code",
      "execution_count": 25,
      "metadata": {
        "id": "PhbN-s36f2Wy"
      },
      "outputs": [],
      "source": [
        "def fetch_news(query, api_key=os.getenv(\"SERP_API_KEY\")):\n",
        "    params = {\n",
        "        \"engine\": \"google\",\n",
        "        \"q\": query,\n",
        "        \"tbm\": \"nws\",\n",
        "        \"api_key\": api_key\n",
        "    }\n",
        "    response = requests.get(\"https://google.serper.dev/search\", params=params)\n",
        "    return response.json()"
      ]
    },
    {
      "cell_type": "code",
      "execution_count": null,
      "metadata": {
        "id": "kDc8ndEDf2Ty"
      },
      "outputs": [],
      "source": []
    },
    {
      "cell_type": "code",
      "execution_count": 26,
      "metadata": {
        "id": "_JY2TrrNf2RJ"
      },
      "outputs": [],
      "source": [
        "# Define the agents\n",
        "class NewsAgents():\n",
        "    def make_search_agent(self):\n",
        "        return Agent(\n",
        "            role='News Search Agent',\n",
        "            goal=\"\"\"Search for news articles using a given query.\"\"\",\n",
        "            backstory=\"\"\"You are skilled at finding relevant news articles on the internet.\"\"\",\n",
        "            llm=GROQ_LLM,\n",
        "            verbose=True,\n",
        "            allow_delegation=False,\n",
        "            max_iter=5,\n",
        "            memory=True,\n",
        "            tools=[DuckDuckGoSearchRun()],\n",
        "        )\n",
        "\n",
        "    def make_summary_agent(self):\n",
        "        return Agent(\n",
        "            role='Article Summary Agent',\n",
        "            goal=\"\"\"Summarize the news articles.\"\"\",\n",
        "            backstory=\"\"\"You excel at creating concise summaries of news articles.\"\"\",\n",
        "            llm=GROQ_LLM,\n",
        "            verbose=True,\n",
        "            allow_delegation=False,\n",
        "            max_iter=5,\n",
        "            memory=True,\n",
        "        )\n",
        "\n",
        "    def make_keyword_agent(self):\n",
        "        return Agent(\n",
        "            role='Keyword Extraction Agent',\n",
        "            goal=\"\"\"Extract key words from the news articles.\"\"\",\n",
        "            backstory=\"\"\"You are adept at identifying key words from text.\"\"\",\n",
        "            llm=GROQ_LLM,\n",
        "            verbose=True,\n",
        "            allow_delegation=False,\n",
        "            max_iter=5,\n",
        "            memory=True,\n",
        "        )"
      ]
    },
    {
      "cell_type": "code",
      "execution_count": null,
      "metadata": {
        "id": "aUMVbhG_f2Ot"
      },
      "outputs": [],
      "source": []
    },
    {
      "cell_type": "code",
      "execution_count": 27,
      "metadata": {
        "id": "mkQgvdrNf2MB"
      },
      "outputs": [],
      "source": [
        "# Define the tasks\n",
        "class NewsTasks():\n",
        "    def search_news(self, query):\n",
        "        return Task(\n",
        "            description=f\"\"\"Search for news articles with the query: {query}.\"\"\",\n",
        "            expected_output=\"\"\"A list of news articles with details like date, region, source, article summary, and keywords.\"\"\",\n",
        "            output_file=f\"news_articles.json\",\n",
        "            agent=search_agent\n",
        "        )\n",
        "\n",
        "    def summarize_article(self, article):\n",
        "        return Task(\n",
        "            description=f\"\"\"Summarize the following news article: {article}.\"\"\",\n",
        "            expected_output=\"\"\"A summary of the article.\"\"\",\n",
        "            context=[search_news],\n",
        "            output_file=f\"article_summary.txt\",\n",
        "            agent=summary_agent\n",
        "        )\n",
        "\n",
        "    def extract_keywords(self, article):\n",
        "        return Task(\n",
        "            description=f\"\"\"Extract key words from the following news article: {article}.\"\"\",\n",
        "            expected_output=\"\"\"A list of key words from the article.\"\"\",\n",
        "            context=[search_news],\n",
        "            output_file=f\"article_keywords.txt\",\n",
        "            agent=keyword_agent\n",
        "        )"
      ]
    },
    {
      "cell_type": "code",
      "execution_count": 28,
      "metadata": {
        "id": "BIBuuJV4f2G3"
      },
      "outputs": [],
      "source": [
        "# Example query\n",
        "QUERY = \"latest news in indial electrical industry\""
      ]
    },
    {
      "cell_type": "code",
      "execution_count": 29,
      "metadata": {
        "id": "v3Up4FJgf2BF"
      },
      "outputs": [],
      "source": [
        "# Instantiate agents and tasks\n",
        "agents = NewsAgents()\n",
        "tasks = NewsTasks()\n",
        "\n",
        "search_agent = agents.make_search_agent()\n",
        "summary_agent = agents.make_summary_agent()\n",
        "keyword_agent = agents.make_keyword_agent()\n",
        "\n",
        "search_news = tasks.search_news(QUERY)\n"
      ]
    },
    {
      "cell_type": "code",
      "execution_count": 30,
      "metadata": {
        "id": "SrONLjuCf19v"
      },
      "outputs": [],
      "source": [
        "\n",
        "# Function to process the news articles and format them\n",
        "def process_news_articles(news_data):\n",
        "    articles = news_data.get('news_results', [])\n",
        "    formatted_articles = []\n",
        "    for article in articles:\n",
        "        date = article.get('date')\n",
        "        region = article.get('region', 'N/A')\n",
        "        source = article.get('source')\n",
        "        title = article.get('title')\n",
        "        summary_task = tasks.summarize_article(title)\n",
        "        keywords_task = tasks.extract_keywords(title)\n",
        "\n",
        "        summary = summary_task.agent.complete_task(title)\n",
        "        keywords = keywords_task.agent.complete_task(title)\n",
        "\n",
        "        formatted_articles.append({\n",
        "            \"date\": date,\n",
        "            \"region\": region,\n",
        "            \"source\": source,\n",
        "            \"article_summary\": summary,\n",
        "            \"keywords\": keywords\n",
        "        })\n",
        "\n",
        "    return formatted_articles\n"
      ]
    },
    {
      "cell_type": "code",
      "execution_count": 31,
      "metadata": {
        "id": "H9bCw9jjf12R"
      },
      "outputs": [],
      "source": [
        "# Fetch news articles using SerpAPI\n",
        "news_data = fetch_news(QUERY)"
      ]
    },
    {
      "cell_type": "code",
      "execution_count": 32,
      "metadata": {
        "id": "IrAfnsR1j5oo"
      },
      "outputs": [],
      "source": [
        "# Process the news articles\n",
        "formatted_articles = process_news_articles(news_data)"
      ]
    },
    {
      "cell_type": "code",
      "execution_count": 33,
      "metadata": {
        "id": "cxvHLXraj5io"
      },
      "outputs": [],
      "source": [
        "# Print the results\n",
        "for article in formatted_articles:\n",
        "    print(f\"Date: {article['date']}\")\n",
        "    print(f\"Region: {article['region']}\")\n",
        "    print(f\"Source: {article['source']}\")\n",
        "    print(f\"Article Summary: {article['article_summary']}\")\n",
        "    print(f\"Keywords: {article['keywords']}\")\n",
        "    print(\"\\n\")\n",
        "\n",
        "# Save the results to a JSON file\n",
        "with open('formatted_articles.json', 'w') as f:\n",
        "    json.dump(formatted_articles, f, indent=4)"
      ]
    },
    {
      "cell_type": "code",
      "execution_count": null,
      "metadata": {
        "id": "QR6qveU_ms8P"
      },
      "outputs": [],
      "source": []
    },
    {
      "cell_type": "code",
      "execution_count": 34,
      "metadata": {
        "id": "KePZJS8aj5gi"
      },
      "outputs": [],
      "source": [
        "def print_agent_output(agent_output, agent_name):\n",
        "    if isinstance(agent_output, str):\n",
        "        print(f\"{agent_name}: {agent_output}\")\n",
        "    elif isinstance(agent_output, list):\n",
        "        for item in agent_output:\n",
        "            print(f\"{agent_name}: {item}\")\n",
        "    else:\n",
        "        print(f\"{agent_name}: Unknown output format\")"
      ]
    },
    {
      "cell_type": "code",
      "execution_count": 35,
      "metadata": {
        "colab": {
          "base_uri": "https://localhost:8080/"
        },
        "id": "dCwalzEmlq6v",
        "outputId": "c6c7a3f2-898c-4359-cb43-6edece2fd0d0"
      },
      "outputs": [
        {
          "name": "stderr",
          "output_type": "stream",
          "text": [
            "2024-05-26 14:17:52,048 - 3008 - __init__.py-__init__:518 - WARNING: Overriding of current TracerProvider is not allowed\n"
          ]
        }
      ],
      "source": [
        "# Instantiate your crew with a sequential process\n",
        "crew = Crew(\n",
        "    agents=[search_agent, summary_agent, keyword_agent],\n",
        "    tasks=[search_news],\n",
        "    verbose=2,\n",
        "    process=Process.sequential,\n",
        "    full_output=True,\n",
        "    share_crew=False,\n",
        "    step_callback=lambda x: print_agent_output(x,\"MasterCrew Agent\")\n",
        ")"
      ]
    },
    {
      "cell_type": "code",
      "execution_count": null,
      "metadata": {
        "id": "BXMt_ld4lq3N"
      },
      "outputs": [],
      "source": []
    },
    {
      "cell_type": "code",
      "execution_count": 36,
      "metadata": {
        "colab": {
          "base_uri": "https://localhost:8080/"
        },
        "id": "flad0Vculq0k",
        "outputId": "88e11cfb-09fe-4ec2-d538-01522554493d"
      },
      "outputs": [
        {
          "name": "stdout",
          "output_type": "stream",
          "text": [
            "\u001b[1m\u001b[95m [DEBUG]: == Working Agent: News Search Agent\u001b[00m\n",
            "\u001b[1m\u001b[95m [INFO]: == Starting Task: Search for news articles with the query: latest news in indial electrical industry.\u001b[00m\n",
            "\n",
            "\n",
            "\u001b[1m> Entering new CrewAgentExecutor chain...\u001b[0m\n",
            "\u001b[32;1m\u001b[1;3mI should search for news articles using the given query \"latest news in Indian electrical industry\" to find relevant and up-to-date information.\n",
            "\n",
            "Action: duckduckgo_search\n",
            "Action Input: {\"q\": \"latest news in Indian electrical industry\"}\u001b[0m\u001b[91m \n",
            "\n",
            "I encountered an error while trying to use the tool. This was the error: DuckDuckGoSearchRun._run() got an unexpected keyword argument 'q'.\n",
            " Tool duckduckgo_search accepts these inputs: A wrapper around DuckDuckGo Search. Useful for when you need to answer questions about current events. Input should be a search query.\n",
            "\u001b[00m\n",
            "MasterCrew Agent: (AgentAction(tool='duckduckgo_search', tool_input='{\"q\": \"latest news in Indian electrical industry\"}', log='I should search for news articles using the given query \"latest news in Indian electrical industry\" to find relevant and up-to-date information.\\n\\nAction: duckduckgo_search\\nAction Input: {\"q\": \"latest news in Indian electrical industry\"}'), \"\\nI encountered an error while trying to use the tool. This was the error: DuckDuckGoSearchRun._run() got an unexpected keyword argument 'q'.\\n Tool duckduckgo_search accepts these inputs: A wrapper around DuckDuckGo Search. Useful for when you need to answer questions about current events. Input should be a search query..\\nMoving on then. I MUST either use a tool (use one at time) OR give my best final answer. To Use the following format:\\n\\nThought: you should always think about what to do\\nAction: the action to take, should be one of [duckduckgo_search]\\nAction Input: the input to the action, dictionary enclosed in curly braces\\nObservation: the result of the action\\n... (this Thought/Action/Action Input/Observation can repeat N times)\\nThought: I now can give a great answer\\nFinal Answer: my best complete final answer to the task.\\nYour final answer must be the great and the most complete as possible, it must be outcome described\\n\\n \")\n",
            "\u001b[32;1m\u001b[1;3mLet's start again from the beginning.\n",
            "\n",
            "Thought: I should search for news articles using the given query \"latest news in Indian electrical industry\" to find relevant and up-to-date information.\n",
            "\n",
            "Action: duckduckgo_search\n",
            "Action Input: {\"query\": \"latest news in Indian electrical industry\"}\u001b[0m\u001b[95m \n",
            "\n",
            "Latest News May 2, 2024. ... Weekly News Wrap - Electrical India. 01:45. Interview with Gagan Arora, Zonal Sales Manager, Vinar Systems Pvt Ltd. 04:01. ... India's oldest magazine on the power and electrical products industry. Electrical India magazine covers latest news, products and insights on Automation, Boilers, Turbines and Generator ... electrical industry Latest Breaking News, Pictures, Videos, and Special Reports from The Economic Times. electrical industry Blogs, Comments and Archive News on Economictimes.com ... The Indian automobile industry is experiencing a surge in hiring for C-suite executives from diverse consumer-facing sectors to address a talent shortage at the ... The electrical and industrial electronics industry has witnessed a record double-digit growth of 13% in 2022-23, according to the data compiled by the Indian Electrical and Electronics Manufacturers' Association (IEEMA), the apex Indian industry association of manufacturers of electrical, industrial electronics and allied equipment. Sunil Singhvi, Vice President, IEEMA said, \"The exports have grown more than three times in the last nine years. For the year 2022-23 the Indian electrical industry recorded an increase of 30 per cent as compared to last year. IEEMA's vision is for the industry to achieve exports of $25 billion by 2030. New Delhi: India's electrical equipment industry is forecasted to double in size over the next seven years, reaching a market valuation of $130 billion by 2030, Hamza Arsiwala, President of the Indian Electrical & Electronics Manufacturers' Association (IEEMA) said. \"Medium term horizon for growth (7 years) by 2030 - Industry growth expected to double and exports to grow 2.5 times by 2030 ...\n",
            "\u001b[00m\n",
            "MasterCrew Agent: (AgentAction(tool='duckduckgo_search', tool_input='{\"query\": \"latest news in Indian electrical industry\"}', log='Let\\'s start again from the beginning.\\n\\nThought: I should search for news articles using the given query \"latest news in Indian electrical industry\" to find relevant and up-to-date information.\\n\\nAction: duckduckgo_search\\nAction Input: {\"query\": \"latest news in Indian electrical industry\"}'), 'Latest News May 2, 2024. ... Weekly News Wrap - Electrical India. 01:45. Interview with Gagan Arora, Zonal Sales Manager, Vinar Systems Pvt Ltd. 04:01. ... India\\'s oldest magazine on the power and electrical products industry. Electrical India magazine covers latest news, products and insights on Automation, Boilers, Turbines and Generator ... electrical industry Latest Breaking News, Pictures, Videos, and Special Reports from The Economic Times. electrical industry Blogs, Comments and Archive News on Economictimes.com ... The Indian automobile industry is experiencing a surge in hiring for C-suite executives from diverse consumer-facing sectors to address a talent shortage at the ... The electrical and industrial electronics industry has witnessed a record double-digit growth of 13% in 2022-23, according to the data compiled by the Indian Electrical and Electronics Manufacturers\\' Association (IEEMA), the apex Indian industry association of manufacturers of electrical, industrial electronics and allied equipment. Sunil Singhvi, Vice President, IEEMA said, \"The exports have grown more than three times in the last nine years. For the year 2022-23 the Indian electrical industry recorded an increase of 30 per cent as compared to last year. IEEMA\\'s vision is for the industry to achieve exports of $25 billion by 2030. New Delhi: India\\'s electrical equipment industry is forecasted to double in size over the next seven years, reaching a market valuation of $130 billion by 2030, Hamza Arsiwala, President of the Indian Electrical & Electronics Manufacturers\\' Association (IEEMA) said. \"Medium term horizon for growth (7 years) by 2030 - Industry growth expected to double and exports to grow 2.5 times by 2030 ...')\n",
            "\u001b[32;1m\u001b[1;3mThought: I have gathered all the necessary information from the search results.\n",
            "\n",
            "Action: None\n",
            "Action Input: None\u001b[0m\u001b[91m \n",
            "\n",
            "Action 'None' don't exist, these are the only available Actions:\n",
            " duckduckgo_search: A wrapper around DuckDuckGo Search. Useful for when you need to answer questions about current events. Input should be a search query.\n",
            "\u001b[00m\n",
            "MasterCrew Agent: (AgentAction(tool='None', tool_input='None', log='Thought: I have gathered all the necessary information from the search results.\\n\\nAction: None\\nAction Input: None'), \"I encountered an error: Action 'None' don't exist, these are the only available Actions:\\n duckduckgo_search: A wrapper around DuckDuckGo Search. Useful for when you need to answer questions about current events. Input should be a search query.\\nMoving on then. I MUST either use a tool (use one at time) OR give my best final answer. To Use the following format:\\n\\nThought: you should always think about what to do\\nAction: the action to take, should be one of [duckduckgo_search]\\nAction Input: the input to the action, dictionary enclosed in curly braces\\nObservation: the result of the action\\n... (this Thought/Action/Action Input/Observation can repeat N times)\\nThought: I now can give a great answer\\nFinal Answer: my best complete final answer to the task.\\nYour final answer must be the great and the most complete as possible, it must be outcome described\\n\\n \")\n",
            "MasterCrew Agent: (AgentAction(tool='_Exception', tool_input=\"Tool won't be use because it's time to give your final answer. Don't use tools and just your absolute BEST Final answer.\", log=\"Tool won't be use because it's time to give your final answer. Don't use tools and just your absolute BEST Final answer.\"), \"Tool won't be use because it's time to give your final answer. Don't use tools and just your absolute BEST Final answer.\")\n",
            "MasterCrew Agent: Unknown output format\n",
            "\u001b[32;1m\u001b[1;3mThought: I now can give a great answer\n",
            "\n",
            "Final Answer: Here is the list of news articles with details like date, region, source, article summary, and keywords:\n",
            "\n",
            "1. \n",
            "Date: May 2, 2024\n",
            "Region: India\n",
            "Source: Electrical India\n",
            "Article Summary: Weekly news wrap-up of the electrical industry in India, featuring an interview with Gagan Arora, Zonal Sales Manager, Vinar Systems Pvt Ltd.\n",
            "Keywords: electrical industry, India, news, interview\n",
            "\n",
            "2. \n",
            "Date: Not specified\n",
            "Region: India\n",
            "Source: The Economic Times\n",
            "Article Summary: The Indian electrical and industrial electronics industry has witnessed a record double-digit growth of 13% in 2022-23, according to IEEMA.\n",
            "Keywords: electrical industry, India, growth, IEEMA\n",
            "\n",
            "3. \n",
            "Date: Not specified\n",
            "Region: India\n",
            "Source: The Economic Times\n",
            "Article Summary: The Indian automobile industry is experiencing a surge in hiring for C-suite executives from diverse consumer-facing sectors to address a talent shortage.\n",
            "Keywords: automobile industry, India, hiring, talent shortage\n",
            "\n",
            "4. \n",
            "Date: Not specified\n",
            "Region: India\n",
            "Source: IEEMA\n",
            "Article Summary: The Indian electrical industry recorded an increase of 30% in exports in 2022-23, with a vision to achieve exports of $25 billion by 2030.\n",
            "Keywords: electrical industry, India, exports, IEEMA\n",
            "\n",
            "5. \n",
            "Date: Not specified\n",
            "Region: India\n",
            "Source: IEEMA\n",
            "Article Summary: India's electrical equipment industry is forecasted to double in size over the next seven years, reaching a market valuation of $130 billion by 2030.\n",
            "Keywords: electrical equipment industry, India, market valuation, IEEMA\u001b[0m\n",
            "\n",
            "\u001b[1m> Finished chain.\u001b[0m\n",
            "\u001b[1m\u001b[92m [DEBUG]: == [News Search Agent] Task output: Here is the list of news articles with details like date, region, source, article summary, and keywords:\n",
            "\n",
            "1. \n",
            "Date: May 2, 2024\n",
            "Region: India\n",
            "Source: Electrical India\n",
            "Article Summary: Weekly news wrap-up of the electrical industry in India, featuring an interview with Gagan Arora, Zonal Sales Manager, Vinar Systems Pvt Ltd.\n",
            "Keywords: electrical industry, India, news, interview\n",
            "\n",
            "2. \n",
            "Date: Not specified\n",
            "Region: India\n",
            "Source: The Economic Times\n",
            "Article Summary: The Indian electrical and industrial electronics industry has witnessed a record double-digit growth of 13% in 2022-23, according to IEEMA.\n",
            "Keywords: electrical industry, India, growth, IEEMA\n",
            "\n",
            "3. \n",
            "Date: Not specified\n",
            "Region: India\n",
            "Source: The Economic Times\n",
            "Article Summary: The Indian automobile industry is experiencing a surge in hiring for C-suite executives from diverse consumer-facing sectors to address a talent shortage.\n",
            "Keywords: automobile industry, India, hiring, talent shortage\n",
            "\n",
            "4. \n",
            "Date: Not specified\n",
            "Region: India\n",
            "Source: IEEMA\n",
            "Article Summary: The Indian electrical industry recorded an increase of 30% in exports in 2022-23, with a vision to achieve exports of $25 billion by 2030.\n",
            "Keywords: electrical industry, India, exports, IEEMA\n",
            "\n",
            "5. \n",
            "Date: Not specified\n",
            "Region: India\n",
            "Source: IEEMA\n",
            "Article Summary: India's electrical equipment industry is forecasted to double in size over the next seven years, reaching a market valuation of $130 billion by 2030.\n",
            "Keywords: electrical equipment industry, India, market valuation, IEEMA\n",
            "\n",
            "\u001b[00m\n",
            "Crew Work Results:\n",
            "{'final_output': \"Here is the list of news articles with details like date, region, source, article summary, and keywords:\\n\\n1. \\nDate: May 2, 2024\\nRegion: India\\nSource: Electrical India\\nArticle Summary: Weekly news wrap-up of the electrical industry in India, featuring an interview with Gagan Arora, Zonal Sales Manager, Vinar Systems Pvt Ltd.\\nKeywords: electrical industry, India, news, interview\\n\\n2. \\nDate: Not specified\\nRegion: India\\nSource: The Economic Times\\nArticle Summary: The Indian electrical and industrial electronics industry has witnessed a record double-digit growth of 13% in 2022-23, according to IEEMA.\\nKeywords: electrical industry, India, growth, IEEMA\\n\\n3. \\nDate: Not specified\\nRegion: India\\nSource: The Economic Times\\nArticle Summary: The Indian automobile industry is experiencing a surge in hiring for C-suite executives from diverse consumer-facing sectors to address a talent shortage.\\nKeywords: automobile industry, India, hiring, talent shortage\\n\\n4. \\nDate: Not specified\\nRegion: India\\nSource: IEEMA\\nArticle Summary: The Indian electrical industry recorded an increase of 30% in exports in 2022-23, with a vision to achieve exports of $25 billion by 2030.\\nKeywords: electrical industry, India, exports, IEEMA\\n\\n5. \\nDate: Not specified\\nRegion: India\\nSource: IEEMA\\nArticle Summary: India's electrical equipment industry is forecasted to double in size over the next seven years, reaching a market valuation of $130 billion by 2030.\\nKeywords: electrical equipment industry, India, market valuation, IEEMA\", 'tasks_outputs': [TaskOutput(description='Search for news articles with the query: latest news in indial electrical industry.', summary='Search for news articles with the query: latest news in...', exported_output=\"Here is the list of news articles with details like date, region, source, article summary, and keywords:\\n\\n1. \\nDate: May 2, 2024\\nRegion: India\\nSource: Electrical India\\nArticle Summary: Weekly news wrap-up of the electrical industry in India, featuring an interview with Gagan Arora, Zonal Sales Manager, Vinar Systems Pvt Ltd.\\nKeywords: electrical industry, India, news, interview\\n\\n2. \\nDate: Not specified\\nRegion: India\\nSource: The Economic Times\\nArticle Summary: The Indian electrical and industrial electronics industry has witnessed a record double-digit growth of 13% in 2022-23, according to IEEMA.\\nKeywords: electrical industry, India, growth, IEEMA\\n\\n3. \\nDate: Not specified\\nRegion: India\\nSource: The Economic Times\\nArticle Summary: The Indian automobile industry is experiencing a surge in hiring for C-suite executives from diverse consumer-facing sectors to address a talent shortage.\\nKeywords: automobile industry, India, hiring, talent shortage\\n\\n4. \\nDate: Not specified\\nRegion: India\\nSource: IEEMA\\nArticle Summary: The Indian electrical industry recorded an increase of 30% in exports in 2022-23, with a vision to achieve exports of $25 billion by 2030.\\nKeywords: electrical industry, India, exports, IEEMA\\n\\n5. \\nDate: Not specified\\nRegion: India\\nSource: IEEMA\\nArticle Summary: India's electrical equipment industry is forecasted to double in size over the next seven years, reaching a market valuation of $130 billion by 2030.\\nKeywords: electrical equipment industry, India, market valuation, IEEMA\", raw_output=\"Here is the list of news articles with details like date, region, source, article summary, and keywords:\\n\\n1. \\nDate: May 2, 2024\\nRegion: India\\nSource: Electrical India\\nArticle Summary: Weekly news wrap-up of the electrical industry in India, featuring an interview with Gagan Arora, Zonal Sales Manager, Vinar Systems Pvt Ltd.\\nKeywords: electrical industry, India, news, interview\\n\\n2. \\nDate: Not specified\\nRegion: India\\nSource: The Economic Times\\nArticle Summary: The Indian electrical and industrial electronics industry has witnessed a record double-digit growth of 13% in 2022-23, according to IEEMA.\\nKeywords: electrical industry, India, growth, IEEMA\\n\\n3. \\nDate: Not specified\\nRegion: India\\nSource: The Economic Times\\nArticle Summary: The Indian automobile industry is experiencing a surge in hiring for C-suite executives from diverse consumer-facing sectors to address a talent shortage.\\nKeywords: automobile industry, India, hiring, talent shortage\\n\\n4. \\nDate: Not specified\\nRegion: India\\nSource: IEEMA\\nArticle Summary: The Indian electrical industry recorded an increase of 30% in exports in 2022-23, with a vision to achieve exports of $25 billion by 2030.\\nKeywords: electrical industry, India, exports, IEEMA\\n\\n5. \\nDate: Not specified\\nRegion: India\\nSource: IEEMA\\nArticle Summary: India's electrical equipment industry is forecasted to double in size over the next seven years, reaching a market valuation of $130 billion by 2030.\\nKeywords: electrical equipment industry, India, market valuation, IEEMA\")]}\n",
            "{'total_tokens': 0, 'prompt_tokens': 0, 'completion_tokens': 0, 'successful_requests': 0}\n"
          ]
        }
      ],
      "source": [
        "results = crew.kickoff()\n",
        "\n",
        "print(\"Crew Work Results:\")\n",
        "print(results)\n",
        "\n",
        "print(crew.usage_metrics)"
      ]
    },
    {
      "cell_type": "code",
      "execution_count": null,
      "metadata": {
        "id": "1L_IUo-RobnG"
      },
      "outputs": [],
      "source": []
    },
    {
      "cell_type": "code",
      "execution_count": null,
      "metadata": {},
      "outputs": [],
      "source": []
    }
  ],
  "metadata": {
    "accelerator": "GPU",
    "colab": {
      "gpuType": "T4",
      "provenance": []
    },
    "kernelspec": {
      "display_name": "Python 3",
      "name": "python3"
    },
    "language_info": {
      "codemirror_mode": {
        "name": "ipython",
        "version": 3
      },
      "file_extension": ".py",
      "mimetype": "text/x-python",
      "name": "python",
      "nbconvert_exporter": "python",
      "pygments_lexer": "ipython3",
      "version": "3.11.1"
    }
  },
  "nbformat": 4,
  "nbformat_minor": 0
}
